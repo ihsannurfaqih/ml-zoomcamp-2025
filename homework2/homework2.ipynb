{
 "cells": [
  {
   "cell_type": "code",
   "execution_count": 17,
   "id": "53e9b7df",
   "metadata": {},
   "outputs": [],
   "source": [
    "import pandas as pd\n",
    "import numpy as np\n",
    "import seaborn as sns\n",
    "from sklearn.model_selection import train_test_split\n",
    "from sklearn.metrics import mean_squared_error, root_mean_squared_error\n",
    "from sklearn.linear_model import LinearRegression, Ridge, Lasso"
   ]
  },
  {
   "cell_type": "code",
   "execution_count": 2,
   "id": "73d50688",
   "metadata": {},
   "outputs": [
    {
     "data": {
      "text/html": [
       "<div>\n",
       "<style scoped>\n",
       "    .dataframe tbody tr th:only-of-type {\n",
       "        vertical-align: middle;\n",
       "    }\n",
       "\n",
       "    .dataframe tbody tr th {\n",
       "        vertical-align: top;\n",
       "    }\n",
       "\n",
       "    .dataframe thead th {\n",
       "        text-align: right;\n",
       "    }\n",
       "</style>\n",
       "<table border=\"1\" class=\"dataframe\">\n",
       "  <thead>\n",
       "    <tr style=\"text-align: right;\">\n",
       "      <th></th>\n",
       "      <th>engine_displacement</th>\n",
       "      <th>num_cylinders</th>\n",
       "      <th>horsepower</th>\n",
       "      <th>vehicle_weight</th>\n",
       "      <th>acceleration</th>\n",
       "      <th>model_year</th>\n",
       "      <th>origin</th>\n",
       "      <th>fuel_type</th>\n",
       "      <th>drivetrain</th>\n",
       "      <th>num_doors</th>\n",
       "      <th>fuel_efficiency_mpg</th>\n",
       "    </tr>\n",
       "  </thead>\n",
       "  <tbody>\n",
       "    <tr>\n",
       "      <th>1003</th>\n",
       "      <td>200</td>\n",
       "      <td>5.0</td>\n",
       "      <td>125.0</td>\n",
       "      <td>3116.568770</td>\n",
       "      <td>16.1</td>\n",
       "      <td>2018</td>\n",
       "      <td>USA</td>\n",
       "      <td>Gasoline</td>\n",
       "      <td>Front-wheel drive</td>\n",
       "      <td>1.0</td>\n",
       "      <td>14.786988</td>\n",
       "    </tr>\n",
       "    <tr>\n",
       "      <th>7664</th>\n",
       "      <td>210</td>\n",
       "      <td>7.0</td>\n",
       "      <td>NaN</td>\n",
       "      <td>3293.240528</td>\n",
       "      <td>15.8</td>\n",
       "      <td>2007</td>\n",
       "      <td>USA</td>\n",
       "      <td>Diesel</td>\n",
       "      <td>Front-wheel drive</td>\n",
       "      <td>0.0</td>\n",
       "      <td>12.600861</td>\n",
       "    </tr>\n",
       "    <tr>\n",
       "      <th>5674</th>\n",
       "      <td>220</td>\n",
       "      <td>5.0</td>\n",
       "      <td>137.0</td>\n",
       "      <td>3313.628890</td>\n",
       "      <td>14.8</td>\n",
       "      <td>2003</td>\n",
       "      <td>Europe</td>\n",
       "      <td>Gasoline</td>\n",
       "      <td>All-wheel drive</td>\n",
       "      <td>1.0</td>\n",
       "      <td>13.024511</td>\n",
       "    </tr>\n",
       "    <tr>\n",
       "      <th>167</th>\n",
       "      <td>150</td>\n",
       "      <td>4.0</td>\n",
       "      <td>192.0</td>\n",
       "      <td>2824.478265</td>\n",
       "      <td>13.8</td>\n",
       "      <td>2002</td>\n",
       "      <td>Asia</td>\n",
       "      <td>Diesel</td>\n",
       "      <td>All-wheel drive</td>\n",
       "      <td>2.0</td>\n",
       "      <td>16.696031</td>\n",
       "    </tr>\n",
       "    <tr>\n",
       "      <th>5737</th>\n",
       "      <td>230</td>\n",
       "      <td>7.0</td>\n",
       "      <td>NaN</td>\n",
       "      <td>4366.357146</td>\n",
       "      <td>16.2</td>\n",
       "      <td>2016</td>\n",
       "      <td>Europe</td>\n",
       "      <td>Gasoline</td>\n",
       "      <td>Front-wheel drive</td>\n",
       "      <td>0.0</td>\n",
       "      <td>7.626868</td>\n",
       "    </tr>\n",
       "  </tbody>\n",
       "</table>\n",
       "</div>"
      ],
      "text/plain": [
       "      engine_displacement  num_cylinders  horsepower  vehicle_weight  \\\n",
       "1003                  200            5.0       125.0     3116.568770   \n",
       "7664                  210            7.0         NaN     3293.240528   \n",
       "5674                  220            5.0       137.0     3313.628890   \n",
       "167                   150            4.0       192.0     2824.478265   \n",
       "5737                  230            7.0         NaN     4366.357146   \n",
       "\n",
       "      acceleration  model_year  origin fuel_type         drivetrain  \\\n",
       "1003          16.1        2018     USA  Gasoline  Front-wheel drive   \n",
       "7664          15.8        2007     USA    Diesel  Front-wheel drive   \n",
       "5674          14.8        2003  Europe  Gasoline    All-wheel drive   \n",
       "167           13.8        2002    Asia    Diesel    All-wheel drive   \n",
       "5737          16.2        2016  Europe  Gasoline  Front-wheel drive   \n",
       "\n",
       "      num_doors  fuel_efficiency_mpg  \n",
       "1003        1.0            14.786988  \n",
       "7664        0.0            12.600861  \n",
       "5674        1.0            13.024511  \n",
       "167         2.0            16.696031  \n",
       "5737        0.0             7.626868  "
      ]
     },
     "execution_count": 2,
     "metadata": {},
     "output_type": "execute_result"
    }
   ],
   "source": [
    "df = pd.read_csv(\"../homework1/car_fuel_efficiency.csv\")\n",
    "\n",
    "df.sample(5)"
   ]
  },
  {
   "cell_type": "code",
   "execution_count": 4,
   "id": "414d1015",
   "metadata": {},
   "outputs": [],
   "source": [
    "df = df[['engine_displacement','horsepower','vehicle_weight','model_year','fuel_efficiency_mpg']].copy()"
   ]
  },
  {
   "cell_type": "code",
   "execution_count": 5,
   "id": "03275833",
   "metadata": {},
   "outputs": [
    {
     "data": {
      "text/html": [
       "<div>\n",
       "<style scoped>\n",
       "    .dataframe tbody tr th:only-of-type {\n",
       "        vertical-align: middle;\n",
       "    }\n",
       "\n",
       "    .dataframe tbody tr th {\n",
       "        vertical-align: top;\n",
       "    }\n",
       "\n",
       "    .dataframe thead th {\n",
       "        text-align: right;\n",
       "    }\n",
       "</style>\n",
       "<table border=\"1\" class=\"dataframe\">\n",
       "  <thead>\n",
       "    <tr style=\"text-align: right;\">\n",
       "      <th></th>\n",
       "      <th>engine_displacement</th>\n",
       "      <th>horsepower</th>\n",
       "      <th>vehicle_weight</th>\n",
       "      <th>model_year</th>\n",
       "      <th>fuel_efficiency_mpg</th>\n",
       "    </tr>\n",
       "  </thead>\n",
       "  <tbody>\n",
       "    <tr>\n",
       "      <th>9375</th>\n",
       "      <td>250</td>\n",
       "      <td>191.0</td>\n",
       "      <td>2823.485354</td>\n",
       "      <td>2023</td>\n",
       "      <td>15.651553</td>\n",
       "    </tr>\n",
       "    <tr>\n",
       "      <th>9395</th>\n",
       "      <td>130</td>\n",
       "      <td>181.0</td>\n",
       "      <td>2831.466797</td>\n",
       "      <td>2005</td>\n",
       "      <td>16.286676</td>\n",
       "    </tr>\n",
       "    <tr>\n",
       "      <th>2967</th>\n",
       "      <td>270</td>\n",
       "      <td>141.0</td>\n",
       "      <td>1880.304306</td>\n",
       "      <td>2013</td>\n",
       "      <td>20.209353</td>\n",
       "    </tr>\n",
       "    <tr>\n",
       "      <th>9307</th>\n",
       "      <td>120</td>\n",
       "      <td>134.0</td>\n",
       "      <td>3197.580693</td>\n",
       "      <td>2007</td>\n",
       "      <td>14.392145</td>\n",
       "    </tr>\n",
       "    <tr>\n",
       "      <th>3422</th>\n",
       "      <td>270</td>\n",
       "      <td>146.0</td>\n",
       "      <td>3141.266582</td>\n",
       "      <td>2010</td>\n",
       "      <td>14.078700</td>\n",
       "    </tr>\n",
       "    <tr>\n",
       "      <th>9275</th>\n",
       "      <td>260</td>\n",
       "      <td>110.0</td>\n",
       "      <td>3808.541356</td>\n",
       "      <td>2002</td>\n",
       "      <td>10.043094</td>\n",
       "    </tr>\n",
       "    <tr>\n",
       "      <th>8524</th>\n",
       "      <td>210</td>\n",
       "      <td>130.0</td>\n",
       "      <td>2620.942414</td>\n",
       "      <td>2011</td>\n",
       "      <td>16.923885</td>\n",
       "    </tr>\n",
       "    <tr>\n",
       "      <th>5399</th>\n",
       "      <td>240</td>\n",
       "      <td>NaN</td>\n",
       "      <td>3433.433570</td>\n",
       "      <td>2008</td>\n",
       "      <td>12.911581</td>\n",
       "    </tr>\n",
       "    <tr>\n",
       "      <th>8609</th>\n",
       "      <td>270</td>\n",
       "      <td>110.0</td>\n",
       "      <td>3704.071050</td>\n",
       "      <td>2014</td>\n",
       "      <td>11.040243</td>\n",
       "    </tr>\n",
       "    <tr>\n",
       "      <th>7223</th>\n",
       "      <td>300</td>\n",
       "      <td>173.0</td>\n",
       "      <td>2842.628144</td>\n",
       "      <td>2021</td>\n",
       "      <td>16.859626</td>\n",
       "    </tr>\n",
       "  </tbody>\n",
       "</table>\n",
       "</div>"
      ],
      "text/plain": [
       "      engine_displacement  horsepower  vehicle_weight  model_year  \\\n",
       "9375                  250       191.0     2823.485354        2023   \n",
       "9395                  130       181.0     2831.466797        2005   \n",
       "2967                  270       141.0     1880.304306        2013   \n",
       "9307                  120       134.0     3197.580693        2007   \n",
       "3422                  270       146.0     3141.266582        2010   \n",
       "9275                  260       110.0     3808.541356        2002   \n",
       "8524                  210       130.0     2620.942414        2011   \n",
       "5399                  240         NaN     3433.433570        2008   \n",
       "8609                  270       110.0     3704.071050        2014   \n",
       "7223                  300       173.0     2842.628144        2021   \n",
       "\n",
       "      fuel_efficiency_mpg  \n",
       "9375            15.651553  \n",
       "9395            16.286676  \n",
       "2967            20.209353  \n",
       "9307            14.392145  \n",
       "3422            14.078700  \n",
       "9275            10.043094  \n",
       "8524            16.923885  \n",
       "5399            12.911581  \n",
       "8609            11.040243  \n",
       "7223            16.859626  "
      ]
     },
     "execution_count": 5,
     "metadata": {},
     "output_type": "execute_result"
    }
   ],
   "source": [
    "df.sample(10)"
   ]
  },
  {
   "cell_type": "markdown",
   "id": "a8c787a2",
   "metadata": {},
   "source": [
    "## EDA"
   ]
  },
  {
   "cell_type": "code",
   "execution_count": 6,
   "id": "002fa1bd",
   "metadata": {},
   "outputs": [
    {
     "data": {
      "text/plain": [
       "<seaborn.axisgrid.FacetGrid at 0x139c58cd0>"
      ]
     },
     "execution_count": 6,
     "metadata": {},
     "output_type": "execute_result"
    },
    {
     "data": {
      "image/png": "[encoded data removed]",
      "text/plain": [
       "<Figure size 500x500 with 1 Axes>"
      ]
     },
     "metadata": {},
     "output_type": "display_data"
    }
   ],
   "source": [
    "sns.displot(df['fuel_efficiency_mpg'])"
   ]
  },
  {
   "cell_type": "markdown",
   "id": "881f6110",
   "metadata": {},
   "source": [
    "The `fuel_efficiency_mpg` variable does not have long tail"
   ]
  },
  {
   "cell_type": "markdown",
   "id": "e609e354",
   "metadata": {},
   "source": [
    "## Q1"
   ]
  },
  {
   "cell_type": "code",
   "execution_count": 7,
   "id": "0b76b8c5",
   "metadata": {},
   "outputs": [
    {
     "data": {
      "text/plain": [
       "engine_displacement      0\n",
       "horsepower             708\n",
       "vehicle_weight           0\n",
       "model_year               0\n",
       "fuel_efficiency_mpg      0\n",
       "dtype: int64"
      ]
     },
     "execution_count": 7,
     "metadata": {},
     "output_type": "execute_result"
    }
   ],
   "source": [
    "df.isna().sum()"
   ]
  },
  {
   "cell_type": "markdown",
   "id": "30e147fc",
   "metadata": {},
   "source": [
    "## Q2"
   ]
  },
  {
   "cell_type": "code",
   "execution_count": 8,
   "id": "3d6d4778",
   "metadata": {},
   "outputs": [
    {
     "data": {
      "text/plain": [
       "149.0"
      ]
     },
     "execution_count": 8,
     "metadata": {},
     "output_type": "execute_result"
    }
   ],
   "source": [
    "df['horsepower'].median()"
   ]
  },
  {
   "cell_type": "markdown",
   "id": "2a131207",
   "metadata": {},
   "source": [
    "## Q3\n",
    "\n",
    "- We need to deal with missing values for the column from Q1.\n",
    "- We have two options: fill it with 0 or with the mean of this variable.\n",
    "- Try both options. For each, train a linear regression model without regularization using the code from the lessons.\n",
    "- For computing the mean, use the training only!\n",
    "- Use the validation dataset to evaluate the models and compare the RMSE of each option.\n",
    "- Round the RMSE scores to 2 decimal digits using round(score, 2)\n",
    "- Which option gives better RMSE?"
   ]
  },
  {
   "cell_type": "code",
   "execution_count": 9,
   "id": "5f67f749",
   "metadata": {},
   "outputs": [],
   "source": [
    "df['horsepower_fillna_mean'] = df['horsepower'].fillna(df['horsepower'].mean())\n",
    "df['horsepower_fillna_0'] = df['horsepower'].fillna(0)"
   ]
  },
  {
   "cell_type": "code",
   "execution_count": 38,
   "id": "52e23815",
   "metadata": {},
   "outputs": [],
   "source": [
    "X = df[['engine_displacement','horsepower','vehicle_weight','model_year']].copy()\n",
    "y = df['fuel_efficiency_mpg'].copy()"
   ]
  },
  {
   "cell_type": "code",
   "execution_count": 11,
   "id": "517c5ec7",
   "metadata": {},
   "outputs": [],
   "source": [
    "# first split to get 60% training data & 20% test data\n",
    "X_train, X_temp, y_train, y_temp = train_test_split(X, y, test_size=0.4, random_state=42)\n",
    "\n",
    "# second split to get 20% validation data\n",
    "X_val, X_test, y_val, y_test = train_test_split(X_temp, y_temp, test_size=0.5, random_state=42)"
   ]
  },
  {
   "cell_type": "code",
   "execution_count": 12,
   "id": "08c1d53b",
   "metadata": {},
   "outputs": [],
   "source": [
    "# fill simulation 1 with mean\n",
    "X_train_fillna_mean = X_train.copy()\n",
    "X_train_fillna_mean['horsepower'] = X_train_fillna_mean['horsepower'].fillna(X_train_fillna_mean['horsepower'].mean())\n",
    "\n",
    "# fill simulation 2 with\n",
    "X_train_fillna_0 = X_train.copy()\n",
    "X_train_fillna_0['horsepower'] = X_train_fillna_0['horsepower'].fillna(0)"
   ]
  },
  {
   "cell_type": "code",
   "execution_count": 13,
   "id": "4d4c1633",
   "metadata": {},
   "outputs": [],
   "source": [
    "# fill simulation 1 with mean\n",
    "X_val_fillna_mean = X_val.copy()\n",
    "X_val_fillna_mean['horsepower'] = X_val_fillna_mean['horsepower'].fillna(X_val_fillna_mean['horsepower'].mean())\n",
    "\n",
    "# fill simulation 2 with\n",
    "X_val_fillna_0 = X_val.copy()\n",
    "X_val_fillna_0['horsepower'] = X_val_fillna_0['horsepower'].fillna(0)"
   ]
  },
  {
   "cell_type": "code",
   "execution_count": 14,
   "id": "94735ddd",
   "metadata": {},
   "outputs": [],
   "source": [
    "# fill simulation 1 with mean\n",
    "X_test_fillna_mean = X_test.copy()\n",
    "X_test_fillna_mean['horsepower'] = X_test_fillna_mean['horsepower'].fillna(X_test_fillna_mean['horsepower'].mean())\n",
    "\n",
    "# fill simulation 2 with\n",
    "X_test_fillna_0 = X_test.copy()\n",
    "X_test_fillna_0['horsepower'] = X_test_fillna_0['horsepower'].fillna(0)"
   ]
  },
  {
   "cell_type": "code",
   "execution_count": 15,
   "id": "536ec9e3",
   "metadata": {},
   "outputs": [
    {
     "name": "stdout",
     "output_type": "stream",
     "text": [
      "Validation RMSE (fillna 0): 0.517291936381243\n"
     ]
    }
   ],
   "source": [
    "# Fill na with 0\n",
    "\n",
    "model_fillna_0 = LinearRegression()\n",
    "model_fillna_0.fit(X_train_fillna_0, y_train)\n",
    "\n",
    "y_val_pred_fillna_0 = model_fillna_0.predict(X_val_fillna_0)\n",
    "rmse_val_fillna_0 = root_mean_squared_error(y_val, y_val_pred_fillna_0)\n",
    "print(f\"Validation RMSE (fillna 0): {rmse_val_fillna_0}\")"
   ]
  },
  {
   "cell_type": "code",
   "execution_count": 16,
   "id": "5131d5f5",
   "metadata": {},
   "outputs": [
    {
     "name": "stdout",
     "output_type": "stream",
     "text": [
      "Validation RMSE (fillna mean): 0.46036055087335576\n"
     ]
    }
   ],
   "source": [
    "# Fill na with mean\n",
    "\n",
    "model_fillna_mean = LinearRegression()\n",
    "model_fillna_mean.fit(X_train_fillna_mean, y_train)\n",
    "\n",
    "y_val_pred_fillna_mean = model_fillna_mean.predict(X_val_fillna_mean)\n",
    "rmse_val_fillna_mean = root_mean_squared_error(y_val, y_val_pred_fillna_mean)\n",
    "print(f\"Validation RMSE (fillna mean): {rmse_val_fillna_mean}\")"
   ]
  },
  {
   "cell_type": "markdown",
   "id": "50625044",
   "metadata": {},
   "source": [
    "## Q4\n",
    "\n",
    "- Now let's train a regularized linear regression.\n",
    "- For this question, fill the NAs with 0.\n",
    "- Try different values of r from this list: [0, 0.01, 0.1, 1, 5, 10, 100].\n",
    "- Use RMSE to evaluate the model on the validation dataset.\n",
    "- Round the RMSE scores to 2 decimal digits.\n",
    "- Which r gives the best RMSE?"
   ]
  },
  {
   "cell_type": "code",
   "execution_count": 18,
   "id": "79babe32",
   "metadata": {},
   "outputs": [],
   "source": [
    "r = [0, 0.01, 0.1, 1, 5, 10, 100]"
   ]
  },
  {
   "cell_type": "code",
   "execution_count": 26,
   "id": "3f5ee182",
   "metadata": {},
   "outputs": [
    {
     "name": "stdout",
     "output_type": "stream",
     "text": [
      "Validation RMSE (Ridge alpha=0): 0.51729\n",
      "Validation RMSE (Ridge alpha=0.01): 0.51729\n",
      "Validation RMSE (Ridge alpha=0.1): 0.51729\n",
      "Validation RMSE (Ridge alpha=1): 0.51729\n",
      "Validation RMSE (Ridge alpha=5): 0.51729\n",
      "Validation RMSE (Ridge alpha=10): 0.51729\n",
      "Validation RMSE (Ridge alpha=100): 0.51729\n"
     ]
    }
   ],
   "source": [
    "for alpha in r:\n",
    "    model_ridge = Ridge(alpha=alpha)\n",
    "    model_ridge.fit(X_train_fillna_0, y_train)\n",
    "\n",
    "    y_val_pred_ridge = model_ridge.predict(X_val_fillna_0)\n",
    "    rmse_val_ridge = root_mean_squared_error(y_val, y_val_pred_ridge)\n",
    "    print(f\"Validation RMSE (Ridge alpha={alpha}): {round(rmse_val_ridge, 5)}\")"
   ]
  },
  {
   "cell_type": "code",
   "execution_count": 27,
   "id": "2ff2190b",
   "metadata": {},
   "outputs": [
    {
     "name": "stdout",
     "output_type": "stream",
     "text": [
      "Validation RMSE (Ridge alpha=0): 3.59433\n",
      "Validation RMSE (Ridge alpha=0.01): 3.59433\n",
      "Validation RMSE (Ridge alpha=0.1): 3.59433\n",
      "Validation RMSE (Ridge alpha=1): 3.59433\n",
      "Validation RMSE (Ridge alpha=5): 3.59433\n",
      "Validation RMSE (Ridge alpha=10): 3.59433\n",
      "Validation RMSE (Ridge alpha=100): 3.59433\n"
     ]
    }
   ],
   "source": [
    "for alpha in r:\n",
    "    model_ridge = Ridge(alpha=alpha)\n",
    "    model_ridge.fit(X_train_fillna_0, y_train)\n",
    "\n",
    "    y_test_pred_ridge = model_ridge.predict(X_val_fillna_0)\n",
    "    rmse_val_ridge = root_mean_squared_error(y_test, y_test_pred_ridge)\n",
    "    print(f\"Validation RMSE (Ridge alpha={alpha}): {round(rmse_val_ridge, 5)}\")"
   ]
  },
  {
   "cell_type": "code",
   "execution_count": 25,
   "id": "f9a59903",
   "metadata": {},
   "outputs": [
    {
     "name": "stderr",
     "output_type": "stream",
     "text": [
      "/usr/local/Caskroom/miniconda/base/envs/da_env/lib/python3.11/site-packages/sklearn/base.py:1365: UserWarning: With alpha=0, this algorithm does not converge well. You are advised to use the LinearRegression estimator\n",
      "  return fit_method(estimator, *args, **kwargs)\n",
      "/usr/local/Caskroom/miniconda/base/envs/da_env/lib/python3.11/site-packages/sklearn/linear_model/_coordinate_descent.py:695: UserWarning: Coordinate descent with no regularization may lead to unexpected results and is discouraged.\n",
      "  model = cd_fast.enet_coordinate_descent(\n",
      "/usr/local/Caskroom/miniconda/base/envs/da_env/lib/python3.11/site-packages/sklearn/linear_model/_coordinate_descent.py:695: ConvergenceWarning: Objective did not converge. You might want to increase the number of iterations, check the scale of the features or consider increasing regularisation. Duality gap: 7.812e+02, tolerance: 3.819e+00\n",
      "Linear regression models with a zero l1 penalization strength are more efficiently fitted using one of the solvers implemented in sklearn.linear_model.Ridge/RidgeCV instead.\n",
      "  model = cd_fast.enet_coordinate_descent(\n"
     ]
    },
    {
     "name": "stdout",
     "output_type": "stream",
     "text": [
      "Validation RMSE (Lasso alpha=0): 0.51729\n",
      "Validation RMSE (Lasso alpha=0.01): 0.51727\n",
      "Validation RMSE (Lasso alpha=0.1): 0.51726\n",
      "Validation RMSE (Lasso alpha=1): 0.51736\n",
      "Validation RMSE (Lasso alpha=5): 0.52586\n",
      "Validation RMSE (Lasso alpha=10): 0.54567\n",
      "Validation RMSE (Lasso alpha=100): 0.5801\n"
     ]
    }
   ],
   "source": [
    "for alpha in r:\n",
    "    model_lasso = Lasso(alpha=alpha)\n",
    "    model_lasso.fit(X_train_fillna_0, y_train)\n",
    "\n",
    "    y_val_pred_lasso = model_lasso.predict(X_val_fillna_0)\n",
    "    rmse_val_lasso = root_mean_squared_error(y_val, y_val_pred_lasso)\n",
    "    print(f\"Validation RMSE (Lasso alpha={alpha}): {round(rmse_val_lasso, 5)}\")"
   ]
  },
  {
   "cell_type": "markdown",
   "id": "42a0001e",
   "metadata": {},
   "source": [
    "## Q5\n",
    "\n",
    "- We used seed 42 for splitting the data. Let's find out how selecting the seed influences our score.\n",
    "- Try different seed values: [0, 1, 2, 3, 4, 5, 6, 7, 8, 9].\n",
    "- For each seed, do the train/validation/test split with 60%/20%/20% distribution.\n",
    "- Fill the missing values with 0 and train a model without regularization.\n",
    "- For each seed, evaluate the model on the validation dataset and collect the RMSE scores.\n",
    "- What's the standard deviation of all the scores? To compute the standard deviation, use np.std.\n",
    "- Round the result to 3 decimal digits (round(std, 3))"
   ]
  },
  {
   "cell_type": "code",
   "execution_count": 30,
   "id": "c3fc35b3",
   "metadata": {},
   "outputs": [
    {
     "name": "stdout",
     "output_type": "stream",
     "text": [
      "Validation RMSE (Linear Regression seed=0): 0.518\n",
      "Validation RMSE (Linear Regression seed=1): 0.517\n",
      "Validation RMSE (Linear Regression seed=2): 0.52\n",
      "Validation RMSE (Linear Regression seed=3): 0.522\n",
      "Validation RMSE (Linear Regression seed=4): 0.511\n",
      "Validation RMSE (Linear Regression seed=5): 0.515\n",
      "Validation RMSE (Linear Regression seed=6): 0.515\n",
      "Validation RMSE (Linear Regression seed=7): 0.536\n",
      "Validation RMSE (Linear Regression seed=8): 0.519\n",
      "Validation RMSE (Linear Regression seed=9): 0.52\n"
     ]
    }
   ],
   "source": [
    "seeds = [0, 1, 2, 3, 4, 5, 6, 7, 8, 9]\n",
    "rmse_scores = []\n",
    "\n",
    "for seed in seeds:\n",
    "    X_train, X_temp, y_train, y_temp = train_test_split(X, y, test_size=0.4, random_state=seed)\n",
    "\n",
    "    # second split to get 20% validation data\n",
    "    X_val, X_test, y_val, y_test = train_test_split(X_temp, y_temp, test_size=0.5, random_state=seed)\n",
    "\n",
    "    # model training\n",
    "    model = LinearRegression()\n",
    "    model.fit(X_train.fillna(0), y_train)\n",
    "\n",
    "    y_val_pred = model.predict(X_val.fillna(0))\n",
    "    rmse_val = root_mean_squared_error(y_val_pred, y_val)\n",
    "    rmse_scores.append(rmse_val)\n",
    "    print(f\"Validation RMSE (Linear Regression seed={seed}): {round(rmse_val, 3)}\")"
   ]
  },
  {
   "cell_type": "code",
   "execution_count": 32,
   "id": "4b2df3a6",
   "metadata": {},
   "outputs": [
    {
     "data": {
      "text/plain": [
       "np.float64(0.006)"
      ]
     },
     "execution_count": 32,
     "metadata": {},
     "output_type": "execute_result"
    }
   ],
   "source": [
    "round(np.std(rmse_scores),3)"
   ]
  },
  {
   "cell_type": "markdown",
   "id": "2c6f6825",
   "metadata": {},
   "source": [
    "## Q6"
   ]
  },
  {
   "cell_type": "markdown",
   "id": "bdc1dde8",
   "metadata": {},
   "source": [
    "- Split the dataset like previously, use seed 9.\n",
    "- Combine train and validation datasets.\n",
    "- Fill the missing values with 0 and train a model with r=0.001.\n",
    "- What's the RMSE on the test dataset?"
   ]
  },
  {
   "cell_type": "code",
   "execution_count": 39,
   "id": "8c3a32df",
   "metadata": {},
   "outputs": [
    {
     "name": "stdout",
     "output_type": "stream",
     "text": [
      "Test RMSE (Lasso Regression): 0.5210298381869958\n"
     ]
    }
   ],
   "source": [
    "X_train, X_test, y_train, y_test = train_test_split(X, y, test_size=0.2, random_state=9)\n",
    "\n",
    "model = Lasso(alpha=0.001)\n",
    "model.fit(X_train.fillna(0), y_train)\n",
    "\n",
    "y_test_pred = model.predict(X_test.fillna(0))\n",
    "rmse_test = root_mean_squared_error(y_test_pred, y_test)\n",
    "print(f\"Test RMSE (Lasso Regression): {rmse_test}\")"
   ]
  },
  {
   "cell_type": "code",
   "execution_count": 40,
   "id": "a011bccf",
   "metadata": {},
   "outputs": [
    {
     "name": "stdout",
     "output_type": "stream",
     "text": [
      "Test RMSE (Ridge Regression): 0.5210335981909543\n"
     ]
    }
   ],
   "source": [
    "X_train, X_test, y_train, y_test = train_test_split(X, y, test_size=0.2, random_state=9)\n",
    "\n",
    "model = Ridge(alpha=0.001)\n",
    "model.fit(X_train.fillna(0), y_train)\n",
    "\n",
    "y_test_pred = model.predict(X_test.fillna(0))\n",
    "rmse_test = root_mean_squared_error(y_test_pred, y_test)\n",
    "print(f\"Test RMSE (Ridge Regression): {rmse_test}\")"
   ]
  }
 ],
 "metadata": {
  "kernelspec": {
   "display_name": "da_env",
   "language": "python",
   "name": "python3"
  },
  "language_info": {
   "codemirror_mode": {
    "name": "ipython",
    "version": 3
   },
   "file_extension": ".py",
   "mimetype": "text/x-python",
   "name": "python",
   "nbconvert_exporter": "python",
   "pygments_lexer": "ipython3",
   "version": "3.11.13"
  }
 },
 "nbformat": 4,
 "nbformat_minor": 5
}
