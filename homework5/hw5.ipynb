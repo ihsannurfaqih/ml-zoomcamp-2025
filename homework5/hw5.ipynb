{
 "cells": [
  {
   "cell_type": "code",
   "execution_count": 26,
   "id": "d87bdd68",
   "metadata": {},
   "outputs": [],
   "source": [
    "import pickle\n",
    "import pandas as pd\n",
    "import numpy as np\n",
    "import requests\n",
    "import json"
   ]
  },
  {
   "cell_type": "markdown",
   "id": "aa57e7fb",
   "metadata": {},
   "source": [
    "## Q3"
   ]
  },
  {
   "cell_type": "code",
   "execution_count": 18,
   "id": "1a315270",
   "metadata": {},
   "outputs": [],
   "source": [
    "\n",
    "# Load the model from .bin file\n",
    "with open('./model/pipeline_v1.bin', 'rb') as f:\n",
    "    model = pickle.load(f)\n",
    "\n",
    "new_data = pd.DataFrame({\n",
    "    \"lead_source\": [\"paid_ads\"],\n",
    "    \"number_of_courses_viewed\": [2],\n",
    "    \"annual_income\": [79276.0]\n",
    "})\n"
   ]
  },
  {
   "cell_type": "code",
   "execution_count": 21,
   "id": "cc9dfcc7",
   "metadata": {},
   "outputs": [],
   "source": [
    "data = {\n",
    "    \"lead_source\": \"paid_ads\",\n",
    "    \"number_of_courses_viewed\": 2,\n",
    "    \"annual_income\": 79276.0\n",
    "}"
   ]
  },
  {
   "cell_type": "code",
   "execution_count": 22,
   "id": "814125f3",
   "metadata": {},
   "outputs": [
    {
     "data": {
      "text/plain": [
       "array([1])"
      ]
     },
     "execution_count": 22,
     "metadata": {},
     "output_type": "execute_result"
    }
   ],
   "source": [
    "model.predict(data)"
   ]
  },
  {
   "cell_type": "code",
   "execution_count": 23,
   "id": "9fb1fa4d",
   "metadata": {},
   "outputs": [
    {
     "name": "stdout",
     "output_type": "stream",
     "text": [
      "Predictions: [1]\n",
      "Probabilities: [[0.46639273 0.53360727]]\n"
     ]
    }
   ],
   "source": [
    "# predict\n",
    "predictions = model.predict(data)\n",
    "print(\"Predictions:\", predictions)\n",
    "\n",
    "# generate probabilities\n",
    "if hasattr(model, 'predict_proba'):\n",
    "    probabilities = model.predict_proba(data)\n",
    "    print(\"Probabilities:\", probabilities)"
   ]
  },
  {
   "cell_type": "markdown",
   "id": "1ce19ff3",
   "metadata": {},
   "source": [
    "## Q4"
   ]
  },
  {
   "cell_type": "code",
   "execution_count": 49,
   "id": "a57d77de",
   "metadata": {},
   "outputs": [],
   "source": [
    "url = \"http://localhost:9696/predict\"\n",
    "client = {\n",
    "    \"lead_source\": \"organic_search\",\n",
    "    \"number_of_courses_viewed\": 4,\n",
    "    \"annual_income\": 80304.0\n",
    "}\n",
    "response = requests.post(url, json=client)"
   ]
  },
  {
   "cell_type": "code",
   "execution_count": 50,
   "id": "d9b44faf",
   "metadata": {},
   "outputs": [],
   "source": [
    "predictions = response.json()"
   ]
  },
  {
   "cell_type": "code",
   "execution_count": 51,
   "id": "d3bdad9a",
   "metadata": {},
   "outputs": [
    {
     "data": {
      "text/plain": [
       "{'churn_probability': 0.5340417283801275, 'churn': True}"
      ]
     },
     "execution_count": 51,
     "metadata": {},
     "output_type": "execute_result"
    }
   ],
   "source": [
    "predictions"
   ]
  },
  {
   "cell_type": "code",
   "execution_count": null,
   "id": "da73301c",
   "metadata": {},
   "outputs": [],
   "source": []
  }
 ],
 "metadata": {
  "kernelspec": {
   "display_name": "ml-deployment",
   "language": "python",
   "name": "python3"
  },
  "language_info": {
   "codemirror_mode": {
    "name": "ipython",
    "version": 3
   },
   "file_extension": ".py",
   "mimetype": "text/x-python",
   "name": "python",
   "nbconvert_exporter": "python",
   "pygments_lexer": "ipython3",
   "version": "3.13.9"
  }
 },
 "nbformat": 4,
 "nbformat_minor": 5
}
